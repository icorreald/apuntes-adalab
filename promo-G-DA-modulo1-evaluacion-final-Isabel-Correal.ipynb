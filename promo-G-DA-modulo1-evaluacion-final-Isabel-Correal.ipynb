{
 "cells": [
  {
   "cell_type": "code",
   "execution_count": 1,
   "metadata": {},
   "outputs": [],
   "source": [
    "import string"
   ]
  },
  {
   "cell_type": "code",
   "execution_count": 15,
   "metadata": {},
   "outputs": [],
   "source": []
  },
  {
   "cell_type": "code",
   "execution_count": 37,
   "metadata": {},
   "outputs": [],
   "source": [
    "class TiendaOnline:\n",
    "    # constructor con las variables que más vamos a usar: inventario, clientes y ventas totales\n",
    "    def __init__ (self):\n",
    "        self.inventario = []\n",
    "        self.clientes = {}\n",
    "        self.ventas_totales = 0\n",
    "\n",
    "    # con esta función añadimos un producto al inventario\n",
    "    def agregar_producto(self, nombre, precio, cantidad):\n",
    "        producto = {'nombre': nombre, 'precio': precio, 'cantidad': cantidad} # nuevo producto a partir de los valores introducidos \n",
    "\n",
    "        for item in self.inventario: #  bucle para actualizar producto si ya existe\n",
    "            if item['nombre'] == producto['nombre']:\n",
    "                item['precio'] = precio\n",
    "                item['cantidad'] = cantidad\n",
    "                print(f'Se ha actualizado el producto {nombre} en el inventario') \n",
    "\n",
    "        if producto not in self.inventario: #  si el producto no estaba en el inventario, se añade\n",
    "            self.inventario.append(producto)\n",
    "            print(f'Se ha añadido el producto {nombre} al inventario')\n",
    "\n",
    "   \n",
    "    def ver_inventario(self): # printea cada diccionario almacenado en el inventario\n",
    "        for item in self.inventario:\n",
    "            print(item)\n",
    "          \n",
    "\n",
    "    def buscar_producto(self, nombre):\n",
    "        for item in self.inventario:\n",
    "            if item['nombre'] == nombre: # si el nombre introducido es igual al valor de alguna clave \"nombre\" se printea\n",
    "                print(item)\n",
    "               \n",
    "\n",
    "    def actualizar_stock(self, nombre, cantidad):\n",
    "        productos = []\n",
    "\n",
    "        for item in self.inventario: # si el producto buscado se corresponde con un valor de algún diccionario, se actualiza\n",
    "            if item['nombre'] == nombre:\n",
    "                item['cantidad'] = cantidad  \n",
    "                print(f'Se ha actualizado el producto {nombre}. Actualmente tenemos {cantidad} unidades')  \n",
    "\n",
    "            else:\n",
    "                productos.append(item['nombre'])\n",
    "\n",
    "                    \n",
    "        if nombre in productos:  # en esta lista almacenamos los productos que != nombre introducido, para devolver el print solo al final del bucle\n",
    "            print(f'El producto {nombre} no está registrado')\n",
    "\n",
    "    \n",
    "    def eliminar_producto(self, nombre): # itera por el inventario para buscar una concidencia con un valor de \"nombre\" y lo elimina si lo encuentra\n",
    "        productos = []\n",
    "\n",
    "        for item in self.inventario:\n",
    "            if item['nombre'] == nombre:\n",
    "                self.inventario.remove(item)\n",
    "                print(f'Se ha eliminado {nombre} del catálogo')\n",
    "            else:\n",
    "                productos.append(item['nombre'])\n",
    "        \n",
    "        if nombre in productos:\n",
    "            print(f'El producto {nombre} no está en el catálogo')\n",
    "\n",
    "    \n",
    "    def calcular_valor_inventario(self): # el producto cantidad * precio de cada item se almacena en lista_valores; la función devuelve el sumatorio de estos productos\n",
    "        lista_valores = []\n",
    "        \n",
    "        for item in self.inventario:\n",
    "            valor = item['cantidad'] * item['precio']\n",
    "            lista_valores.append(valor)\n",
    "    \n",
    "        print(f'El valor total del inventario es de {round(sum(lista_valores), 2)} €')\n",
    "\n",
    "\n",
    "    def realizar_compra(self):\n",
    "\n",
    "        print(self.inventario)\n",
    "        print(' ')\n",
    "        print('Si desea finalizar la compra, seleccione \"x\"')\n",
    "\n",
    "        compra = input('¿Qué desea comprar?'.lower().strip()) # establece la condición para el bucle\n",
    "        self.carrito = {} # esto es para usarlo luego en registrar_compra\n",
    "        carrito_compra = []       \n",
    "        total = []\n",
    "\n",
    "        while compra != 'x':\n",
    "\n",
    "            print(f'Usted ha seleccionado {compra}')\n",
    "                       \n",
    "            for item in self.inventario: # comprobamos que el objeto seleccionado está en el inventario\n",
    "                if item['nombre'] == compra:\n",
    "                        \n",
    "                        try: # comprobamos que el valor sea un integer\n",
    "                            unidades = int(input('¿Cuántas unidades?'))\n",
    "                        except:\n",
    "                            print(f'Introduzca un valor válido')\n",
    "\n",
    "                        if item['cantidad'] > unidades: # validar que hay más stock que unidades se quieren comprar\n",
    "                            print(f'Ha seleccionado usted {unidades} unidades')\n",
    "                            \n",
    "                            self.carrito.update({compra: {'precio': item['precio'], 'cantidad': unidades}})\n",
    "\n",
    "                        else:\n",
    "                            print(f'No quedan suficientes unidades en nuestro almacén. Actualmente contamos con', item['cantidad'])\n",
    "            \n",
    "            compra = input('¿Qué desea comprar?'.lower().strip()) # volvemos a preguntar aquí para restablecer condición\n",
    "\n",
    "                    \n",
    "        for item in self.carrito.items():\n",
    "            carrito_compra.append(item[0])\n",
    "            self.valor = item[1]['precio'] * item[1]['cantidad']\n",
    "            total.append(self.valor)\n",
    "            self.ventas_totales += self.valor # se agrega este valor al constructor\n",
    "            \n",
    "\n",
    "        print(f'Usted ha comprado: {carrito_compra}. El total a pagar es {round(sum(total), 2)} €')\n",
    "        \n",
    "\n",
    "    def procesar_pago(self):\n",
    "        total = float(input('Introduzca el total a pagar'))\n",
    "        pago = float(input('Introduzca la cantidad de pago'))\n",
    "\n",
    "        cambio = pago - total\n",
    "        print(f'Total de la compra: {total}. Total pagado: {pago}. Cambio: {round(cambio, 2)}')\n",
    "\n",
    "\n",
    "    def agregar_cliente(self, nombre, email):\n",
    "        cliente = ('Cliente', str(len(self.clientes) + 1))\n",
    "        id_cliente = ''.join(cliente)\n",
    "        self.clientes.update({id_cliente : {'nombre': nombre, 'email': email, 'compras': []}})\n",
    "                \n",
    "        \n",
    "    def ver_clientes(self): #meter bucle for\n",
    "        for item in self.clientes.items():\n",
    "            print(item)\n",
    "\n",
    "    def registrar_compra(self, cliente_nombre):\n",
    "                \n",
    "        for item in self.clientes.items():\n",
    "            if item[1]['nombre'] == cliente_nombre:\n",
    "                self.realizar_compra()\n",
    "                item[1]['compras'].append(self.carrito)\n",
    "                print(item)\n",
    "                auxiliar = True\n",
    "\n",
    "            else:\n",
    "                auxiliar = False\n",
    "        \n",
    "        if auxiliar == False:\n",
    "            print(f'No se ha encontrado al cliente {cliente_nombre}')\n",
    "\n",
    "    def ver_compras_cliente(self, cliente_nombre):\n",
    "        for item in self.clientes.items():\n",
    "            if item[1]['nombre'] == cliente_nombre:\n",
    "                print(item[1]['compras'])\n",
    "\n",
    "\n",
    "    def calcular_ventas_totales(self):\n",
    "        print(self.ventas_totales)\n",
    "\n",
    "    \n",
    "\n",
    "\n",
    "\n",
    "\n",
    "\n"
   ]
  },
  {
   "cell_type": "code",
   "execution_count": 38,
   "metadata": {},
   "outputs": [],
   "source": [
    "tienda = TiendaOnline()"
   ]
  },
  {
   "cell_type": "code",
   "execution_count": 39,
   "metadata": {},
   "outputs": [
    {
     "name": "stdout",
     "output_type": "stream",
     "text": [
      "Se ha añadido el producto camiseta al inventario\n",
      "Se ha añadido el producto pantalón al inventario\n",
      "Se ha añadido el producto blusa al inventario\n"
     ]
    }
   ],
   "source": [
    "tienda.agregar_producto('camiseta', 10.50, 20)\n",
    "tienda.agregar_producto('pantalón', 20.99, 20)\n",
    "tienda.agregar_producto('blusa', 13, 21)"
   ]
  },
  {
   "cell_type": "code",
   "execution_count": 42,
   "metadata": {},
   "outputs": [
    {
     "name": "stdout",
     "output_type": "stream",
     "text": [
      "{'nombre': 'camiseta', 'precio': 10.5, 'cantidad': 20}\n",
      "{'nombre': 'pantalón', 'precio': 20.99, 'cantidad': 20}\n",
      "{'nombre': 'blusa', 'precio': 13, 'cantidad': 21}\n"
     ]
    }
   ],
   "source": [
    "tienda.ver_inventario()"
   ]
  },
  {
   "cell_type": "code",
   "execution_count": 41,
   "metadata": {},
   "outputs": [
    {
     "name": "stdout",
     "output_type": "stream",
     "text": [
      "{'nombre': 'camiseta', 'precio': 10.5, 'cantidad': 20}\n",
      "{'nombre': 'blusa', 'precio': 13, 'cantidad': 21}\n"
     ]
    }
   ],
   "source": [
    "tienda.buscar_producto('camiseta')\n",
    "tienda.buscar_producto('blusa')"
   ]
  },
  {
   "cell_type": "code",
   "execution_count": 43,
   "metadata": {},
   "outputs": [
    {
     "name": "stdout",
     "output_type": "stream",
     "text": [
      "Se ha actualizado el producto camiseta. Actualmente tenemos 25 unidades\n",
      "{'nombre': 'camiseta', 'precio': 10.5, 'cantidad': 25}\n"
     ]
    }
   ],
   "source": [
    "tienda.actualizar_stock('camiseta', 25)\n",
    "tienda.buscar_producto('camiseta')"
   ]
  },
  {
   "cell_type": "code",
   "execution_count": 44,
   "metadata": {},
   "outputs": [
    {
     "name": "stdout",
     "output_type": "stream",
     "text": [
      "Se ha eliminado blusa del catálogo\n",
      "{'nombre': 'camiseta', 'precio': 10.5, 'cantidad': 25}\n",
      "{'nombre': 'pantalón', 'precio': 20.99, 'cantidad': 20}\n"
     ]
    }
   ],
   "source": [
    "tienda.eliminar_producto('blusa')\n",
    "tienda.ver_inventario()"
   ]
  },
  {
   "cell_type": "code",
   "execution_count": 45,
   "metadata": {},
   "outputs": [
    {
     "name": "stdout",
     "output_type": "stream",
     "text": [
      "El valor total del inventario es de 682.3 €\n"
     ]
    }
   ],
   "source": [
    "tienda.calcular_valor_inventario()"
   ]
  },
  {
   "cell_type": "code",
   "execution_count": 46,
   "metadata": {},
   "outputs": [
    {
     "name": "stdout",
     "output_type": "stream",
     "text": [
      "[{'nombre': 'camiseta', 'precio': 10.5, 'cantidad': 25}, {'nombre': 'pantalón', 'precio': 20.99, 'cantidad': 20}]\n",
      " \n",
      "Si desea finalizar la compra, seleccione \"x\"\n",
      "Usted ha seleccionado camiseta\n",
      "Ha seleccionado usted 1 unidades\n",
      "Usted ha comprado: ['camiseta']. El total a pagar es 10.5 €\n"
     ]
    }
   ],
   "source": [
    "tienda.realizar_compra()"
   ]
  },
  {
   "cell_type": "code",
   "execution_count": 47,
   "metadata": {},
   "outputs": [
    {
     "name": "stdout",
     "output_type": "stream",
     "text": [
      "Total de la compra: 10.5. Total pagado:2 20.0. Cambio: 9.5\n"
     ]
    }
   ],
   "source": [
    "tienda.procesar_pago()"
   ]
  },
  {
   "cell_type": "code",
   "execution_count": 48,
   "metadata": {},
   "outputs": [],
   "source": [
    "tienda.agregar_cliente('jose carlos', 'email@ejemplo.com')\n",
    "tienda.agregar_cliente('matilde', 'email@ejemplo.com')"
   ]
  },
  {
   "cell_type": "code",
   "execution_count": 49,
   "metadata": {},
   "outputs": [
    {
     "name": "stdout",
     "output_type": "stream",
     "text": [
      "('Cliente1', {'nombre': 'jose carlos', 'email': 'email@ejemplo.com', 'compras': []})\n",
      "('Cliente2', {'nombre': 'matilde', 'email': 'email@ejemplo.com', 'compras': []})\n"
     ]
    }
   ],
   "source": [
    "tienda.ver_clientes()"
   ]
  },
  {
   "cell_type": "code",
   "execution_count": 51,
   "metadata": {},
   "outputs": [
    {
     "name": "stdout",
     "output_type": "stream",
     "text": [
      "[{'nombre': 'camiseta', 'precio': 10.5, 'cantidad': 25}, {'nombre': 'pantalón', 'precio': 20.99, 'cantidad': 20}]\n",
      " \n",
      "Si desea finalizar la compra, seleccione \"x\"\n",
      "Usted ha seleccionado pantalón\n",
      "Ha seleccionado usted 2 unidades\n",
      "Usted ha comprado: ['pantalón']. El total a pagar es 41.98 €\n",
      "('Cliente2', {'nombre': 'matilde', 'email': 'email@ejemplo.com', 'compras': [{'pantalón': {'precio': 20.99, 'cantidad': 2}}]})\n"
     ]
    }
   ],
   "source": [
    "tienda.registrar_compra('matilde')"
   ]
  },
  {
   "cell_type": "code",
   "execution_count": 52,
   "metadata": {},
   "outputs": [
    {
     "name": "stdout",
     "output_type": "stream",
     "text": [
      "[{'pantalón': {'precio': 20.99, 'cantidad': 2}}]\n"
     ]
    }
   ],
   "source": [
    "tienda.ver_compras_cliente('matilde')"
   ]
  },
  {
   "cell_type": "code",
   "execution_count": 53,
   "metadata": {},
   "outputs": [
    {
     "name": "stdout",
     "output_type": "stream",
     "text": [
      "52.48\n"
     ]
    }
   ],
   "source": [
    "tienda.calcular_ventas_totales()"
   ]
  }
 ],
 "metadata": {
  "kernelspec": {
   "display_name": "base",
   "language": "python",
   "name": "python3"
  },
  "language_info": {
   "codemirror_mode": {
    "name": "ipython",
    "version": 3
   },
   "file_extension": ".py",
   "mimetype": "text/x-python",
   "name": "python",
   "nbconvert_exporter": "python",
   "pygments_lexer": "ipython3",
   "version": "3.9.7"
  }
 },
 "nbformat": 4,
 "nbformat_minor": 2
}
