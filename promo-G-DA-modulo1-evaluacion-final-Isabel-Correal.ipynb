{
 "cells": [
  {
   "cell_type": "code",
   "execution_count": 58,
   "metadata": {},
   "outputs": [],
   "source": [
    "class TiendaOnline:\n",
    "    # constructor con las variables que más vamos a usar: inventario, clientes y ventas totales\n",
    "    def __init__ (self):\n",
    "        self.inventario = []\n",
    "        self.clientes = {}\n",
    "        self.ventas_totales = 0\n",
    "\n",
    "    # con esta función añadimos un producto al inventario\n",
    "    def agregar_producto(self, nombre, precio, cantidad):\n",
    "        producto = {'nombre': nombre, 'precio': precio, 'cantidad': cantidad} # nuevo producto a partir de los valores introducidos \n",
    "\n",
    "        for item in self.inventario: #  bucle para actualizar producto si ya existe\n",
    "            if item['nombre'] == producto['nombre']:\n",
    "                item['precio'] = precio\n",
    "                item['cantidad'] = cantidad\n",
    "                print(f'Se ha actualizado el producto {nombre} en el inventario') \n",
    "\n",
    "        if producto not in self.inventario: #  si el producto no estaba en el inventario, se añade\n",
    "            self.inventario.append(producto)\n",
    "            print(f'Se ha añadido el producto {nombre} al inventario')\n",
    "\n",
    "   \n",
    "    def ver_inventario(self): # printea cada diccionario almacenado en el inventario\n",
    "        for item in self.inventario:\n",
    "            print(item)\n",
    "          \n",
    "\n",
    "    def buscar_producto(self, nombre):\n",
    "        for item in self.inventario:\n",
    "            if item['nombre'] == nombre: # si el nombre introducido es igual al valor de alguna clave \"nombre\" se printea\n",
    "                print(item)\n",
    "               \n",
    "\n",
    "    def actualizar_stock(self, nombre, cantidad):\n",
    "        productos = []\n",
    "\n",
    "        for item in self.inventario: # si el producto buscado se corresponde con un valor de algún diccionario, se actualiza\n",
    "            if item['nombre'] == nombre:\n",
    "                item['cantidad'] = cantidad  \n",
    "                print(f'Se ha actualizado el producto {nombre}. Actualmente tenemos {cantidad} unidades')  \n",
    "\n",
    "            else:\n",
    "                productos.append(item['nombre'])\n",
    "\n",
    "                    \n",
    "        if nombre in productos:  # en esta lista almacenamos los productos que != nombre introducido, para devolver el print solo al final del bucle\n",
    "            print(f'El producto {nombre} no está registrado')\n",
    "\n",
    "    \n",
    "    def eliminar_producto(self, nombre): # itera por el inventario para buscar una concidencia con un valor de \"nombre\" y lo elimina si lo encuentra\n",
    "        productos = []\n",
    "\n",
    "        for item in self.inventario:\n",
    "            if item['nombre'] == nombre:\n",
    "                self.inventario.remove(item)\n",
    "                print(f'Se ha eliminado {nombre} del catálogo')\n",
    "            else:\n",
    "                productos.append(item['nombre'])\n",
    "        \n",
    "        if nombre in productos:\n",
    "            print(f'El producto {nombre} no está en el catálogo')\n",
    "\n",
    "    \n",
    "    def calcular_valor_inventario(self): # el producto cantidad * precio de cada item se almacena en lista_valores; la función devuelve el sumatorio de estos productos\n",
    "        lista_valores = []\n",
    "        \n",
    "        for item in self.inventario:\n",
    "            valor = item['cantidad'] * item['precio']\n",
    "            lista_valores.append(valor)\n",
    "    \n",
    "        print(f'El valor total del inventario es de {round(sum(lista_valores), 2)} €')\n",
    "\n",
    "\n",
    "    def realizar_compra(self):\n",
    "\n",
    "        print(self.inventario)\n",
    "                       \n",
    "        compra = input('¿Qué desea comprar? Indique \"x\" si desea finalizar su compra'.lower().strip())\n",
    "        \n",
    "        carrito_compra = []\n",
    "        productos = []\n",
    "        total = []\n",
    "\n",
    "        while compra != 'x':\n",
    "            print(f'Usted ha seleccionado {compra}')\n",
    "            \n",
    "            for item in self.inventario:\n",
    "                if item['nombre'] == compra:\n",
    "                    item['cantidad'] = 1\n",
    "                    carrito_compra.append(compra)\n",
    "                    productos.append(item)\n",
    "            \n",
    "            compra = input('¿Qué desea comprar? Indique \"x\" si desea finalizar su compra'.lower().strip())\n",
    "\n",
    "                    \n",
    "        for item in productos:\n",
    "            valor = item['cantidad'] * item['precio']\n",
    "            total.append(valor)\n",
    "\n",
    "        print(f'Usted ha comprado: {carrito_compra}. El total a pagar es {round(sum(total), 2)} €')\n",
    "\n",
    "    def procesar_pago(self):\n",
    "        total = int(input('Introduzca el total a pagar'))\n",
    "        pago = int(input('Introduzca la cantidad de pago'))\n",
    "\n",
    "        cambio = pago - total\n",
    "        print(f'Total de la compra: {total}. Total pagado: {pago}. Cambio: {round(pago, 2)}')\n",
    "\n",
    "\n",
    "    def agregar_cliente(self, nombre, email):\n",
    "        cliente = ('Cliente', str(len(self.clientes) + 1))\n",
    "        id_cliente = ''.join(cliente)\n",
    "        self.clientes.update({id_cliente : {'nombre': nombre, 'email': email, 'compras': []}})\n",
    "                \n",
    "        \n",
    "    def ver_clientes(self): #meter bucle for\n",
    "        for item in self.clientes.items():\n",
    "        print(item)\n",
    "\n",
    "    def registrar_compra(self, nombre_cliente, carrito):\n",
    "        for item in self.clientes.items():\n",
    "            cliente = self.clientes[item]\n",
    "            if cliente['nombre'] == nombre_cliente:\n",
    "                \n",
    "            "
   ]
  },
  {
   "cell_type": "code",
   "execution_count": 59,
   "metadata": {},
   "outputs": [],
   "source": [
    "alimerka = TiendaOnline()"
   ]
  },
  {
   "cell_type": "code",
   "execution_count": 62,
   "metadata": {},
   "outputs": [],
   "source": [
    "alimerka.agregar_cliente('fulanito', 'ejemplo@ejemplo.com')"
   ]
  },
  {
   "cell_type": "code",
   "execution_count": 63,
   "metadata": {},
   "outputs": [
    {
     "name": "stdout",
     "output_type": "stream",
     "text": [
      "{'Cliente1': {'nombre': 'jose carlos', 'email': 'ejemplo@ejemplo.com', 'compras': []}, 'Cliente2': {'nombre': 'fulanito', 'email': 'ejemplo@ejemplo.com', 'compras': []}}\n"
     ]
    }
   ],
   "source": [
    "alimerka.ver_clientes()"
   ]
  },
  {
   "cell_type": "code",
   "execution_count": 2,
   "metadata": {},
   "outputs": [],
   "source": [
    "clientes = {'Cliente1': {'nombre': 'jose carlos', 'email': 'ejemplo@ejemplo.com', 'compras': []}, \n",
    "            'Cliente2': {'nombre': 'fulanito', 'email': 'ejemplo@ejemplo.com', 'compras': []}}"
   ]
  },
  {
   "cell_type": "code",
   "execution_count": 19,
   "metadata": {},
   "outputs": [
    {
     "name": "stdout",
     "output_type": "stream",
     "text": [
      "Nombre del cliente: fulanito\n"
     ]
    }
   ],
   "source": [
    "for clave_cliente in clientes:\n",
    "    cliente_actual = clientes[clave_cliente]\n",
    "    if cliente_actual['nombre'] == 'fulanito':\n",
    "        print('Nombre del cliente:', cliente_actual['nombre']) "
   ]
  }
 ],
 "metadata": {
  "kernelspec": {
   "display_name": "base",
   "language": "python",
   "name": "python3"
  },
  "language_info": {
   "codemirror_mode": {
    "name": "ipython",
    "version": 3
   },
   "file_extension": ".py",
   "mimetype": "text/x-python",
   "name": "python",
   "nbconvert_exporter": "python",
   "pygments_lexer": "ipython3",
   "version": "3.9.7"
  }
 },
 "nbformat": 4,
 "nbformat_minor": 2
}
