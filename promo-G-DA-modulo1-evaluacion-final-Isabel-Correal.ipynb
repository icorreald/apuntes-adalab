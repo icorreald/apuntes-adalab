{
 "cells": [
  {
   "cell_type": "code",
   "execution_count": 1,
   "metadata": {},
   "outputs": [],
   "source": [
    "import string"
   ]
  },
  {
   "cell_type": "code",
   "execution_count": 15,
   "metadata": {},
   "outputs": [],
   "source": []
  },
  {
   "cell_type": "code",
   "execution_count": 23,
   "metadata": {},
   "outputs": [],
   "source": [
    "class TiendaOnline:\n",
    "    # constructor con las variables que más vamos a usar: inventario, clientes y ventas totales\n",
    "    def __init__ (self):\n",
    "        self.inventario = []\n",
    "        self.clientes = {}\n",
    "        self.ventas_totales = 0\n",
    "\n",
    "    \n",
    "    def agregar_producto(self, nombre, precio, cantidad):\n",
    "\n",
    "        producto = {'nombre': nombre.lower().strip(), 'precio': precio, 'cantidad': cantidad} # nuevo producto a partir de los valores introducidos \n",
    "\n",
    "        for item in self.inventario: #  bucle para actualizar producto si ya existe\n",
    "\n",
    "            if item['nombre'] == producto['nombre']:\n",
    "                item['precio'] = precio\n",
    "                item['cantidad'] = cantidad\n",
    "                print(f'Se ha actualizado el producto {nombre} en el inventario') \n",
    "\n",
    "        if producto not in self.inventario: #  si el producto no estaba en el inventario, se añade\n",
    "            self.inventario.append(producto)\n",
    "            print(f'Se ha añadido el producto {nombre} al inventario')\n",
    "\n",
    "   \n",
    "    def ver_inventario(self): # printea cada diccionario almacenado en el inventario\n",
    "\n",
    "        for item in self.inventario:\n",
    "            print(item)\n",
    "          \n",
    "\n",
    "    def buscar_producto(self, nombre):\n",
    "        \n",
    "        for item in self.inventario:\n",
    "            if item['nombre'] == nombre.lower().strip(): # si el nombre introducido es igual al valor de alguna clave \"nombre\" se printea\n",
    "                print(item)\n",
    "                           \n",
    "\n",
    "    def actualizar_stock(self, nombre, cantidad):\n",
    "        productos = [item['nombre'] for item in self.inventario]\n",
    "\n",
    "        if nombre.lower().strip() not in productos:\n",
    "            print(f'El producto {nombre} no figura en el inventario')\n",
    "\n",
    "        for item in self.inventario: # si el producto buscado se corresponde con un valor de algún diccionario, se actualiza\n",
    "            if item['nombre'] == nombre.lower().strip():\n",
    "                item['cantidad'] = cantidad  \n",
    "                print(f'Se ha actualizado el producto {nombre}. Actualmente tenemos {cantidad} unidades') \n",
    "                 \n",
    "        \n",
    "    \n",
    "    def eliminar_producto(self, nombre): # itera por el inventario para buscar una concidencia con un valor de \"nombre\" y lo elimina si lo encuentra\n",
    "        productos = [item['nombre'] for item in self.inventario]\n",
    "\n",
    "        if nombre.lower().strip()  not in productos:\n",
    "            print(f'El producto {nombre} no está en el catálogo')\n",
    "\n",
    "        for item in self.inventario:\n",
    "            if item['nombre'] == nombre.lower().strip():\n",
    "                self.inventario.remove(item)\n",
    "                print(f'Se ha eliminado {nombre} del catálogo')\n",
    "                   \n",
    "        \n",
    "    \n",
    "    def calcular_valor_inventario(self): # el producto cantidad * precio de cada item se almacena en lista_valores; la función devuelve el sumatorio de estos productos\n",
    "        lista_valores = []\n",
    "        \n",
    "        for item in self.inventario:\n",
    "            valor = item['cantidad'] * item['precio']\n",
    "            lista_valores.append(valor)\n",
    "    \n",
    "        print(f'El valor total del inventario es de {round(sum(lista_valores), 2)} €')\n",
    "\n",
    "\n",
    "    def realizar_compra(self):\n",
    "\n",
    "        print(self.inventario)\n",
    "        print(' ')\n",
    "        print('Si desea finalizar la compra, seleccione \"x\"')\n",
    "\n",
    "        compra = input('¿Qué desea comprar?'.lower().strip()) # establece la condición para el bucle\n",
    "        productos = [item['nombre'] for item in self.inventario]\n",
    "        \n",
    "        self.carrito = {} # esto es para usarlo luego en registrar_compra\n",
    "        carrito_compra = []       \n",
    "        total = []\n",
    "        \n",
    "        while compra != 'x':\n",
    "\n",
    "            print(f'Usted ha seleccionado {compra}')\n",
    "\n",
    "            if compra not in productos:\n",
    "                print(f'El producto {compra} no está disponible en nuestro catálogo')\n",
    "\n",
    "                           \n",
    "            for item in self.inventario: # comprobamos que el objeto seleccionado está en el inventario\n",
    "                if item['nombre'] == compra:\n",
    "                        \n",
    "                        try: # comprobamos que el valor sea un integer\n",
    "                            unidades = int(input('¿Cuántas unidades?'))\n",
    "                        except:\n",
    "                            print(f'Introduzca un valor válido')\n",
    "\n",
    "                        if item['cantidad'] > unidades: # validar que hay más stock que unidades se quieren comprar\n",
    "                            print(f'Ha seleccionado usted {unidades} unidades')\n",
    "                            \n",
    "                            self.carrito.update({compra: {'precio': item['precio'], 'cantidad': unidades}})\n",
    "\n",
    "                        else:\n",
    "                            print(f'No quedan suficientes unidades en nuestro almacén. Actualmente contamos con', item['cantidad'])\n",
    "                  \n",
    "\n",
    "                \n",
    "            compra = input('¿Qué desea comprar?'.lower().strip()) # volvemos a preguntar aquí para restablecer condición\n",
    "\n",
    "                    \n",
    "        for item in self.carrito.items():\n",
    "            carrito_compra.append(item[0])\n",
    "            self.valor = item[1]['precio'] * item[1]['cantidad']\n",
    "            total.append(self.valor)\n",
    "            self.ventas_totales += self.valor # se agrega este valor al constructor\n",
    "            \n",
    "\n",
    "        print(f'Usted ha comprado: {carrito_compra}. El total a pagar es {round(sum(total), 2)} €')\n",
    "        return self.carrito\n",
    "        \n",
    "\n",
    "    def procesar_pago(self):\n",
    "        total = float(input('Introduzca el total a pagar'))\n",
    "        pago = float(input('Introduzca la cantidad de pago'))\n",
    "\n",
    "        cambio = pago - total\n",
    "        print(f'Total de la compra: {total}. Total pagado: {pago}. Cambio: {round(cambio, 2)}')\n",
    "\n",
    "\n",
    "    def agregar_cliente(self, nombre, email):\n",
    "        \n",
    "        cliente = ('Cliente', str(len(self.clientes) + 1))\n",
    "        id_cliente = ''.join(cliente)\n",
    "\n",
    "        self.clientes.update({id_cliente : {'nombre': nombre.lower().strip(), 'email': email, 'compras': []}})\n",
    "           \n",
    "\n",
    "    def ver_clientes(self): \n",
    "\n",
    "        for item in self.clientes.items():\n",
    "            print(item)\n",
    "\n",
    "    def registrar_compra(self, cliente_nombre):\n",
    "                \n",
    "        for item in self.clientes.items():\n",
    "\n",
    "            if item[1]['nombre'] == cliente_nombre.lower().strip():\n",
    "                self.realizar_compra()\n",
    "                item[1]['compras'].append(self.carrito)\n",
    "\n",
    "                print(item)\n",
    "\n",
    "                auxiliar = True\n",
    "\n",
    "            else:\n",
    "                auxiliar = False\n",
    "        \n",
    "        if auxiliar == False:\n",
    "            print(f'No se ha encontrado al cliente {cliente_nombre}')\n",
    "\n",
    "\n",
    "    def ver_compras_cliente(self, cliente_nombre):\n",
    "        \n",
    "        for item in self.clientes.items():\n",
    "            if item[1]['nombre'] == cliente_nombre.lower().strip():\n",
    "                print(item[1]['compras'])\n",
    "\n",
    "\n",
    "    def calcular_ventas_totales(self):\n",
    "        print(round(self.ventas_totales, 2), '€')\n",
    "\n",
    "    \n",
    "\n",
    "\n",
    "\n",
    "\n",
    "\n"
   ]
  },
  {
   "cell_type": "code",
   "execution_count": 24,
   "metadata": {},
   "outputs": [],
   "source": [
    "tienda = TiendaOnline()"
   ]
  },
  {
   "cell_type": "code",
   "execution_count": 25,
   "metadata": {},
   "outputs": [
    {
     "name": "stdout",
     "output_type": "stream",
     "text": [
      "Se ha añadido el producto camiseta al inventario\n",
      "Se ha añadido el producto pantalón al inventario\n",
      "Se ha añadido el producto blusa al inventario\n"
     ]
    }
   ],
   "source": [
    "tienda.agregar_producto('camiseta', 10.50, 20)\n",
    "tienda.agregar_producto('pantalón', 20.99, 20)\n",
    "tienda.agregar_producto('blusa', 13, 21)"
   ]
  },
  {
   "cell_type": "code",
   "execution_count": 9,
   "metadata": {},
   "outputs": [
    {
     "name": "stdout",
     "output_type": "stream",
     "text": [
      "{'nombre': 'camiseta', 'precio': 10.5, 'cantidad': 20}\n",
      "{'nombre': 'pantalón', 'precio': 20.99, 'cantidad': 20}\n",
      "{'nombre': 'blusa', 'precio': 13, 'cantidad': 21}\n"
     ]
    }
   ],
   "source": [
    "tienda.ver_inventario()"
   ]
  },
  {
   "cell_type": "code",
   "execution_count": 10,
   "metadata": {},
   "outputs": [
    {
     "name": "stdout",
     "output_type": "stream",
     "text": [
      "{'nombre': 'camiseta', 'precio': 10.5, 'cantidad': 20}\n"
     ]
    }
   ],
   "source": [
    "tienda.buscar_producto('camiseta')"
   ]
  },
  {
   "cell_type": "code",
   "execution_count": 11,
   "metadata": {},
   "outputs": [
    {
     "name": "stdout",
     "output_type": "stream",
     "text": [
      "Se ha actualizado el producto camiseta. Actualmente tenemos 25 unidades\n",
      "Se ha actualizado el producto pantalón. Actualmente tenemos 15 unidades\n",
      "{'nombre': 'camiseta', 'precio': 10.5, 'cantidad': 25}\n",
      "{'nombre': 'pantalón', 'precio': 20.99, 'cantidad': 15}\n",
      "{'nombre': 'blusa', 'precio': 13, 'cantidad': 21}\n"
     ]
    }
   ],
   "source": [
    "tienda.actualizar_stock('camiseta', 25)\n",
    "tienda.actualizar_stock('pantalón', 15)\n",
    "\n",
    "tienda.ver_inventario()\n"
   ]
  },
  {
   "cell_type": "code",
   "execution_count": 12,
   "metadata": {},
   "outputs": [
    {
     "name": "stdout",
     "output_type": "stream",
     "text": [
      "Se ha eliminado blusa del catálogo\n",
      "{'nombre': 'camiseta', 'precio': 10.5, 'cantidad': 25}\n",
      "{'nombre': 'pantalón', 'precio': 20.99, 'cantidad': 15}\n"
     ]
    }
   ],
   "source": [
    "tienda.eliminar_producto('blusa')\n",
    "tienda.ver_inventario()"
   ]
  },
  {
   "cell_type": "code",
   "execution_count": 13,
   "metadata": {},
   "outputs": [
    {
     "name": "stdout",
     "output_type": "stream",
     "text": [
      "El valor total del inventario es de 577.35 €\n"
     ]
    }
   ],
   "source": [
    "tienda.calcular_valor_inventario()"
   ]
  },
  {
   "cell_type": "code",
   "execution_count": 14,
   "metadata": {},
   "outputs": [
    {
     "name": "stdout",
     "output_type": "stream",
     "text": [
      "[{'nombre': 'camiseta', 'precio': 10.5, 'cantidad': 25}, {'nombre': 'pantalón', 'precio': 20.99, 'cantidad': 15}]\n",
      " \n",
      "Si desea finalizar la compra, seleccione \"x\"\n",
      "Usted ha seleccionado camiseta\n",
      "Ha seleccionado usted 1 unidades\n",
      "Usted ha seleccionado colchón\n",
      "El producto colchón no está disponible en nuestro catálogo\n",
      "Usted ha seleccionado pantalón\n",
      "Ha seleccionado usted 4 unidades\n"
     ]
    },
    {
     "data": {
      "text/plain": [
       "\"Usted ha comprado: ['camiseta', 'pantalón']. El total a pagar es 94.46 €\""
      ]
     },
     "execution_count": 14,
     "metadata": {},
     "output_type": "execute_result"
    }
   ],
   "source": [
    "tienda.realizar_compra()"
   ]
  },
  {
   "cell_type": "code",
   "execution_count": 15,
   "metadata": {},
   "outputs": [
    {
     "name": "stdout",
     "output_type": "stream",
     "text": [
      "Total de la compra: 94.46. Total pagado: 100.0. Cambio: 5.54\n"
     ]
    }
   ],
   "source": [
    "tienda.procesar_pago()"
   ]
  },
  {
   "cell_type": "code",
   "execution_count": 26,
   "metadata": {},
   "outputs": [],
   "source": [
    "tienda.agregar_cliente('jose carlos', 'email@ejemplo.com')\n",
    "tienda.agregar_cliente('matilde', 'email@ejemplo.com')\n",
    "tienda.agregar_cliente('ramona', 'email@ejemplo.com')"
   ]
  },
  {
   "cell_type": "code",
   "execution_count": 17,
   "metadata": {},
   "outputs": [
    {
     "name": "stdout",
     "output_type": "stream",
     "text": [
      "('Cliente1', {'nombre': 'jose carlos', 'email': 'email@ejemplo.com', 'compras': []})\n",
      "('Cliente2', {'nombre': 'matilde', 'email': 'email@ejemplo.com', 'compras': []})\n",
      "('Cliente3', {'nombre': 'ramona', 'email': 'email@ejemplo.com', 'compras': []})\n"
     ]
    }
   ],
   "source": [
    "tienda.ver_clientes()"
   ]
  },
  {
   "cell_type": "code",
   "execution_count": 30,
   "metadata": {},
   "outputs": [
    {
     "name": "stdout",
     "output_type": "stream",
     "text": [
      "[{'nombre': 'camiseta', 'precio': 10.5, 'cantidad': 20}, {'nombre': 'pantalón', 'precio': 20.99, 'cantidad': 20}, {'nombre': 'blusa', 'precio': 13, 'cantidad': 21}]\n",
      " \n",
      "Si desea finalizar la compra, seleccione \"x\"\n",
      "Usted ha seleccionado camiseta\n",
      "Ha seleccionado usted 1 unidades\n",
      "Usted ha comprado: ['camiseta']. El total a pagar es 10.5 €\n"
     ]
    },
    {
     "ename": "TypeError",
     "evalue": "registrar_compra() takes 2 positional arguments but 3 were given",
     "output_type": "error",
     "traceback": [
      "\u001b[0;31m---------------------------------------------------------------------------\u001b[0m",
      "\u001b[0;31mTypeError\u001b[0m                                 Traceback (most recent call last)",
      "\u001b[0;32m/tmp/ipykernel_2322/534281079.py\u001b[0m in \u001b[0;36m<module>\u001b[0;34m\u001b[0m\n\u001b[1;32m      1\u001b[0m \u001b[0mcarrito_cliente\u001b[0m \u001b[0;34m=\u001b[0m \u001b[0mtienda\u001b[0m\u001b[0;34m.\u001b[0m\u001b[0mrealizar_compra\u001b[0m\u001b[0;34m(\u001b[0m\u001b[0;34m)\u001b[0m\u001b[0;34m\u001b[0m\u001b[0;34m\u001b[0m\u001b[0m\n\u001b[1;32m      2\u001b[0m \u001b[0;34m\u001b[0m\u001b[0m\n\u001b[0;32m----> 3\u001b[0;31m \u001b[0mtienda\u001b[0m\u001b[0;34m.\u001b[0m\u001b[0mregistrar_compra\u001b[0m\u001b[0;34m(\u001b[0m\u001b[0;34m'jose carlos'\u001b[0m\u001b[0;34m,\u001b[0m \u001b[0mcarrito_cliente\u001b[0m\u001b[0;34m)\u001b[0m\u001b[0;34m\u001b[0m\u001b[0;34m\u001b[0m\u001b[0m\n\u001b[0m",
      "\u001b[0;31mTypeError\u001b[0m: registrar_compra() takes 2 positional arguments but 3 were given"
     ]
    }
   ],
   "source": [
    "carrito_cliente = tienda.realizar_compra()\n",
    "\n",
    "tienda.registrar_compra('jose carlos', carrito_cliente)"
   ]
  },
  {
   "cell_type": "code",
   "execution_count": 86,
   "metadata": {},
   "outputs": [
    {
     "name": "stdout",
     "output_type": "stream",
     "text": [
      "[{'camiseta': {'precio': 10.5, 'cantidad': 1}}]\n",
      "[{}]\n"
     ]
    }
   ],
   "source": [
    "tienda.ver_compras_cliente('jose carlos')"
   ]
  },
  {
   "cell_type": "code",
   "execution_count": 21,
   "metadata": {},
   "outputs": [
    {
     "name": "stdout",
     "output_type": "stream",
     "text": [
      "217.42999999999998\n"
     ]
    }
   ],
   "source": [
    "tienda.calcular_ventas_totales()"
   ]
  }
 ],
 "metadata": {
  "kernelspec": {
   "display_name": "base",
   "language": "python",
   "name": "python3"
  },
  "language_info": {
   "codemirror_mode": {
    "name": "ipython",
    "version": 3
   },
   "file_extension": ".py",
   "mimetype": "text/x-python",
   "name": "python",
   "nbconvert_exporter": "python",
   "pygments_lexer": "ipython3",
   "version": "3.9.7"
  }
 },
 "nbformat": 4,
 "nbformat_minor": 2
}
